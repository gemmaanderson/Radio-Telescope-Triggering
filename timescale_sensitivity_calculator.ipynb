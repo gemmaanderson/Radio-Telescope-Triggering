{
 "cells": [
  {
   "cell_type": "code",
   "execution_count": 27,
   "metadata": {},
   "outputs": [],
   "source": [
    "import astropy\n",
    "import math\n",
    "import numpy as np\n",
    "import scipy as sp\n",
    "#import lmfit\n",
    "import csv\n",
    "from decimal import Decimal\n",
    "import matplotlib.pyplot as plt\n",
    "import matplotlib.artist as artists\n",
    "from matplotlib.pyplot import savefig\n",
    "from matplotlib.lines import Line2D\n",
    "from matplotlib.ticker import FormatStrFormatter\n",
    "from matplotlib.ticker import ScalarFormatter \n",
    "from matplotlib.backends.backend_pdf import PdfPages\n",
    "import scipy.optimize as optimization\n",
    "#import cosmolopy.distance as cd\n",
    "from astropy.cosmology import WMAP9 as cosmo\n",
    "from astropy.cosmology import FlatLambdaCDM\n",
    "from astropy.cosmology import Planck13, z_at_value\n",
    "from astropy.table import Table\n",
    "import astropy.units as u\n",
    "import collections"
   ]
  },
  {
   "cell_type": "code",
   "execution_count": 3,
   "metadata": {},
   "outputs": [
    {
     "name": "stdout",
     "output_type": "stream",
     "text": [
      "FlatLambdaCDM(H0=68 km / (Mpc s), Om0=0.3, Tcmb0=0 K, Neff=3.04, m_nu=None, Ob0=None)\n"
     ]
    }
   ],
   "source": [
    "cosmo = FlatLambdaCDM(H0=68, Om0=0.3)\n",
    "print cosmo"
   ]
  },
  {
   "cell_type": "code",
   "execution_count": 10,
   "metadata": {},
   "outputs": [],
   "source": [
    "# Calculate dispersion measure from redshift - from coherent theory paper eqn 2\n",
    "def dm(z):\n",
    "    return 1200. * z"
   ]
  },
  {
   "cell_type": "code",
   "execution_count": 53,
   "metadata": {},
   "outputs": [],
   "source": [
    "# Redshift numpy array\n",
    "redshift = np.linspace(0.,1.,100,endpoint=True)\n",
    "# Array for results\n",
    "ddata_results = np.ndarray(100) \n",
    "ddata_sensitivity = np.ndarray(100) "
   ]
  },
  {
   "cell_type": "code",
   "execution_count": 21,
   "metadata": {},
   "outputs": [],
   "source": [
    "# Equations from coherent paper equation 1 (in seconds)\n",
    "# Frequency dependent delay using DM (d in pc cm^-3) and frequency (f in GHz)\n",
    "def dta(z, f):\n",
    "    d = 1200. * z\n",
    "    return d / (241. * f**2)"
   ]
  },
  {
   "cell_type": "code",
   "execution_count": 22,
   "metadata": {},
   "outputs": [],
   "source": [
    "# Equations from Trott et al. (2013), ApJL, 776, L16 (in ms) - eqn 1\n",
    "# Calculate dispersion delay using DM (d in pc cm^-3) and frequency (f in Hz or GHz??)\n",
    "def dtt(z, f):\n",
    "    d = 1200. * z\n",
    "    return 4.15 * (d / f**2)"
   ]
  },
  {
   "cell_type": "code",
   "execution_count": 71,
   "metadata": {},
   "outputs": [],
   "source": [
    "# Equations from Trott et al. (2013), ApJL, 776, L16 (in micro s) - eqn 8\n",
    "# Assumes zero scattering\n",
    "# Dispersion delay across a single channel (in us) assuing \n",
    "# a dispersion measure of DM (d in pc cm^-3) \n",
    "# an observing frequency (f in GHz) \n",
    "# and a spectral resolution (v in MHz)\n",
    "def dtdm(z,f,v):\n",
    "    d = 1200. * z\n",
    "    return 8.3 * (d / f**3) * v"
   ]
  },
  {
   "cell_type": "code",
   "execution_count": 72,
   "metadata": {},
   "outputs": [],
   "source": [
    "# Equations from Trott et al. (2013), ApJL, 776, L16 (in micro s) - eqn 7\n",
    "# Assumes zero scattering\n",
    "# Signal observed by the system has the characteristic timescale (in micro s) assuming \n",
    "# a pulse intrinsic timescale of (w in micro s)\n",
    "# a dispersion measure of DM (d in pc cm^-3) \n",
    "# an observing frequency (f in GHz) \n",
    "# and a spectral resolution (v in MHz)\n",
    "def wobs(w,z,f,v):\n",
    "    d = 1200. * z\n",
    "    tdm = 8.3 * (d / f**3) * v\n",
    "    return np.sqrt(w**2 + tdm**2)"
   ]
  },
  {
   "cell_type": "code",
   "execution_count": 73,
   "metadata": {},
   "outputs": [],
   "source": [
    "# Create arrays of dispersion delay and observed timescale\n",
    "# Assume the pulse intrinsic timescale is 1000 micro s and the temporal sampling timescale (0.5s = 5e5 ms)\n",
    "wint = 1000.\n",
    "tsamp = 5e5\n",
    "# Sensitivity of MWA (3 sigma in Jy)\n",
    "smwa = 3.\n",
    "# Array of observed dispersion delays for dedispersed imaging\n",
    "#ddatat = dtdm(redshift,0.185,1.28)\n",
    "ddataw = wobs(wint,redshift,0.185,1.28)\n",
    "#bdatat = dtdm(redshift,0.185,30.72)\n",
    "bdataw = wobs(wint,redshift,0.185,30.72)"
   ]
  },
  {
   "cell_type": "code",
   "execution_count": 74,
   "metadata": {},
   "outputs": [],
   "source": [
    "# tests\n",
    "#ddatat\n",
    "#ddataw\n",
    "#bdatat\n",
    "#bdataw"
   ]
  },
  {
   "cell_type": "code",
   "execution_count": 75,
   "metadata": {},
   "outputs": [
    {
     "name": "stdout",
     "output_type": "stream",
     "text": [
      "[ True  True  True  True  True  True  True  True  True  True  True  True\n",
      "  True  True  True  True  True  True  True  True  True  True  True  True\n",
      "  True False False False False False False False False False False False\n",
      " False False False False False False False False False False False False\n",
      " False False False False False False False False False False False False\n",
      " False False False False False False False False False False False False\n",
      " False False False False False False False False False False False False\n",
      " False False False False False False False False False False False False\n",
      " False False False False]\n",
      "False\n",
      "[False False False False False False False False False False False False\n",
      " False False False False False False False False False False False False\n",
      " False  True  True  True  True  True  True  True  True  True  True  True\n",
      "  True  True  True  True  True  True  True  True  True  True  True  True\n",
      "  True  True  True  True  True  True  True  True  True  True  True  True\n",
      "  True  True  True  True  True  True  True  True  True  True  True  True\n",
      "  True  True  True  True  True  True  True  True  True  True  True  True\n",
      "  True  True  True  True  True  True  True  True  True  True  True  True\n",
      "  True  True  True  True]\n"
     ]
    }
   ],
   "source": [
    "# Create boolean\n",
    "# Filter array for elements in data1\n",
    "# Comparisons between the sampling timescale (tsamp) and the intrinsic pulse timescale (wint)\n",
    "fltr_a = (ddataw < tsamp)\n",
    "fltr_b = (wint > tsamp)\n",
    "fltr_c = ((ddataw > tsamp) & (wint < tsamp))\n",
    "print(fltr_a)\n",
    "print(fltr_b) # This is checking the overall inequality - this will always be false in imaging mode!\n",
    "print(fltr_c)"
   ]
  },
  {
   "cell_type": "code",
   "execution_count": 76,
   "metadata": {},
   "outputs": [
    {
     "data": {
      "text/plain": [
       "array([0.00175299, 0.00171895, 0.00168682, 0.00165642, 0.00162761,\n",
       "       0.00160026, 0.00157423, 0.00154944, 0.00152579, 0.00150318,\n",
       "       0.00148155, 0.00146083, 0.00144095, 0.00142187, 0.00140352,\n",
       "       0.00138586, 0.00136886, 0.00135246, 0.00133665, 0.00132137,\n",
       "       0.0013066 , 0.00129232, 0.0012785 , 0.00126511, 0.00125214,\n",
       "       0.00123955, 0.00122734, 0.00121548, 0.00120396, 0.00119276,\n",
       "       0.00118187, 0.00117127, 0.00116095, 0.0011509 , 0.0011411 ,\n",
       "       0.00113155, 0.00112224, 0.00111315, 0.00110428, 0.00109562,\n",
       "       0.00108716, 0.00107889, 0.00107081, 0.00106291, 0.00105518,\n",
       "       0.00104761, 0.00104021, 0.00103296, 0.00102586, 0.00101891,\n",
       "       0.00101209, 0.00100541, 0.00099886, 0.00099244, 0.00098614,\n",
       "       0.00097995, 0.00097389, 0.00096793, 0.00096208, 0.00095634,\n",
       "       0.00095069, 0.00094515, 0.0009397 , 0.00093435, 0.00092909,\n",
       "       0.00092391, 0.00091882, 0.00091381, 0.00090889, 0.00090404,\n",
       "       0.00089927, 0.00089457, 0.00088995, 0.0008854 , 0.00088091])"
      ]
     },
     "execution_count": 76,
     "metadata": {},
     "output_type": "execute_result"
    }
   ],
   "source": [
    "ddata_results[fltr_c]"
   ]
  },
  {
   "cell_type": "code",
   "execution_count": 79,
   "metadata": {},
   "outputs": [
    {
     "name": "stdout",
     "output_type": "stream",
     "text": [
      "[0.         0.01010101 0.02020202 0.03030303 0.04040404 0.05050505\n",
      " 0.06060606 0.07070707 0.08080808 0.09090909 0.1010101  0.11111111\n",
      " 0.12121212 0.13131313 0.14141414 0.15151515 0.16161616 0.17171717\n",
      " 0.18181818 0.19191919 0.2020202  0.21212121 0.22222222 0.23232323\n",
      " 0.24242424 0.25252525 0.26262626 0.27272727 0.28282828 0.29292929\n",
      " 0.3030303  0.31313131 0.32323232 0.33333333 0.34343434 0.35353535\n",
      " 0.36363636 0.37373737 0.38383838 0.39393939 0.4040404  0.41414141\n",
      " 0.42424242 0.43434343 0.44444444 0.45454545 0.46464646 0.47474747\n",
      " 0.48484848 0.49494949 0.50505051 0.51515152 0.52525253 0.53535354\n",
      " 0.54545455 0.55555556 0.56565657 0.57575758 0.58585859 0.5959596\n",
      " 0.60606061 0.61616162 0.62626263 0.63636364 0.64646465 0.65656566\n",
      " 0.66666667 0.67676768 0.68686869 0.6969697  0.70707071 0.71717172\n",
      " 0.72727273 0.73737374 0.74747475 0.75757576 0.76767677 0.77777778\n",
      " 0.78787879 0.7979798  0.80808081 0.81818182 0.82828283 0.83838384\n",
      " 0.84848485 0.85858586 0.86868687 0.87878788 0.88888889 0.8989899\n",
      " 0.90909091 0.91919192 0.92929293 0.93939394 0.94949495 0.95959596\n",
      " 0.96969697 0.97979798 0.98989899 1.        ]\n",
      "[0.002      0.002      0.002      0.002      0.002      0.002\n",
      " 0.002      0.002      0.002      0.002      0.002      0.002\n",
      " 0.002      0.002      0.002      0.002      0.002      0.002\n",
      " 0.002      0.002      0.002      0.002      0.002      0.002\n",
      " 0.002      0.00198328 0.00194477 0.00190842 0.00187403 0.00184143\n",
      " 0.00181048 0.00178104 0.00175299 0.00172623 0.00170065 0.00167618\n",
      " 0.00165274 0.00163025 0.00160866 0.0015879  0.00156793 0.00154869\n",
      " 0.00153014 0.00151224 0.00149496 0.00147825 0.0014621  0.00144646\n",
      " 0.00143131 0.00141663 0.0014024  0.00138858 0.00137516 0.00136213\n",
      " 0.00134946 0.00133713 0.00132514 0.00131346 0.00130209 0.00129101\n",
      " 0.00128021 0.00126967 0.00125939 0.00124935 0.00123955 0.00122998\n",
      " 0.00122063 0.00121149 0.00120254 0.0011938  0.00118524 0.00117686\n",
      " 0.00116866 0.00116063 0.00115276 0.00114505 0.00113749 0.00113008\n",
      " 0.00112281 0.00111569 0.00110869 0.00110183 0.00109509 0.00108847\n",
      " 0.00108197 0.00107559 0.00106932 0.00106315 0.0010571  0.00105114\n",
      " 0.00104528 0.00103952 0.00103386 0.00102829 0.0010228  0.0010174\n",
      " 0.00101209 0.00100686 0.00100171 0.00099664]\n",
      "[ 500.          500.          500.          500.          500.\n",
      "  500.          500.          500.          500.          500.\n",
      "  500.          500.          500.          500.          500.\n",
      "  500.          500.          500.          500.          500.\n",
      "  500.          500.          500.          500.          500.\n",
      "  504.21398894  514.19935621  523.99447575  533.60982427  543.05495083\n",
      "  552.3385879   561.46874594  570.45279426  579.29753066  588.00924166\n",
      "  596.5937547   605.0564838   613.40246948  621.63641384  629.7627116\n",
      "  637.78547744  645.70857044  653.53561571  661.27002381  668.91500813\n",
      "  676.47360044  683.94866499  691.34291119  698.65890505  705.8990796\n",
      "  713.06574435  720.16109388  727.18721572  734.14609748  741.03963345\n",
      "  747.86963062  754.6378142   761.34583269  767.99526264  774.58761289\n",
      "  781.12432863  787.60679505  794.03634083  800.41424126  806.74172122\n",
      "  813.01995794  819.25008352  825.43318734  831.57031829  837.66248683\n",
      "  843.71066693  849.71579791  855.67878612  861.60050654  867.4818043\n",
      "  873.32349606  879.12637136  884.89119383  890.6187024   896.3096124\n",
      "  901.96461656  907.58438606  913.16957142  918.72080338  924.23869374\n",
      "  929.72383614  935.17680681  940.59816529  945.98845508  951.34820427\n",
      "  956.67792618  961.97811988  967.2492708   972.49185119  977.70632064\n",
      "  982.89312656  988.05270461  993.18547914  998.29186357 1003.37226083]\n"
     ]
    }
   ],
   "source": [
    "# For elements of ddataw, which the a filter is true, multiply telescope sensitivity by wint/tsamp\n",
    "ddata_results[fltr_a] = (wint/tsamp) \n",
    "# For elements of ddataw, which the c filter is true, multiply telescope sensitivity by wint/sqrt(wobs * tsamp)\n",
    "# For elements of data1 which filter is NOT true (hence the \"~\" character), multiply by -10\n",
    "##data1_results[~fltr] = data1[~fltr] * -10\n",
    "ddata_results[~fltr_a] = (wint / np.sqrt(ddataw[~fltr_a] * tsamp) )\n",
    "\n",
    "ddata_sensitivity = 1. / ddata_results\n",
    "\n",
    "print(redshift)\n",
    "print(ddata_results)\n",
    "print(ddata_sensitivity)\n",
    "\n",
    "\n",
    "#data1_results[~fltr] = data1[~fltr] * -10\n",
    "\n",
    "#print(ddataw_results_a_true)"
   ]
  },
  {
   "cell_type": "code",
   "execution_count": 26,
   "metadata": {},
   "outputs": [
    {
     "name": "stdout",
     "output_type": "stream",
     "text": [
      "1804106.33921\n",
      "1804106.6163554231\n",
      "1008943937.58\n",
      "1039165251.3853942\n"
     ]
    }
   ],
   "source": [
    "# Tests - calculate the dispersion delay timescale and the system characteristic timescale\n",
    "# Assume w = 1000 micro s, f = 0.185 GHz, v = 1.28 MHz (image de-dispersion)\n",
    "# Assume w = 1000 micro s, f = 0.185 GHz, v = 30.72 MHz (whole MWA band)\n",
    "# DM = 840.0 corresponding to z = 0.7 \n",
    "print dtdm(0.7,0.185,1.28)\n",
    "print wobs(1000.,0.7,0.185,1.28)\n",
    "print dtdm(0.7,0.185,30.27)\n",
    "print wobs(1000.,0.7,0.185,30.72)"
   ]
  },
  {
   "cell_type": "code",
   "execution_count": 20,
   "metadata": {
    "collapsed": true
   },
   "outputs": [],
   "source": [
    "dmgw = dm(zgw)\n",
    "ddgw = dd(dmgw,0.15)"
   ]
  },
  {
   "cell_type": "code",
   "execution_count": 21,
   "metadata": {},
   "outputs": [
    {
     "name": "stdout",
     "output_type": "stream",
     "text": [
      "31.9064207794\n",
      "5.88407944295\n"
     ]
    }
   ],
   "source": [
    "print dmgw\n",
    "print ddgw"
   ]
  },
  {
   "cell_type": "code",
   "execution_count": 22,
   "metadata": {
    "collapsed": true
   },
   "outputs": [],
   "source": [
    "dmgwbns = dm(zgwbns)\n",
    "ddgwbns = dd(dmgwbns,0.15)"
   ]
  },
  {
   "cell_type": "code",
   "execution_count": 23,
   "metadata": {},
   "outputs": [
    {
     "name": "stdout",
     "output_type": "stream",
     "text": [
      "10.776572388\n",
      "1.98738079999\n"
     ]
    }
   ],
   "source": [
    "print dmgwbns\n",
    "print ddgwbns"
   ]
  },
  {
   "cell_type": "code",
   "execution_count": 24,
   "metadata": {},
   "outputs": [
    {
     "name": "stdout",
     "output_type": "stream",
     "text": [
      "14.976\n",
      "26.0693333333\n",
      "11.0933333333\n",
      "22.1866666667\n"
     ]
    }
   ],
   "source": [
    "print cjdd(120,150)\n",
    "print cjddh(120,150)\n",
    "\n",
    "print cjdd(40,150)\n",
    "print cjddh(40,150)"
   ]
  },
  {
   "cell_type": "code",
   "execution_count": 31,
   "metadata": {},
   "outputs": [
    {
     "name": "stdout",
     "output_type": "stream",
     "text": [
      "119.284506973\n"
     ]
    }
   ],
   "source": [
    "print cjddb(4384.6844,185)"
   ]
  },
  {
   "cell_type": "code",
   "execution_count": 38,
   "metadata": {},
   "outputs": [
    {
     "name": "stdout",
     "output_type": "stream",
     "text": [
      "7.2972972973\n"
     ]
    }
   ],
   "source": [
    "print cjddb(40,185)"
   ]
  },
  {
   "cell_type": "code",
   "execution_count": 34,
   "metadata": {},
   "outputs": [
    {
     "name": "stdout",
     "output_type": "stream",
     "text": [
      "181.44498894\n"
     ]
    }
   ],
   "source": [
    "print cjddb(4384.6844,150)"
   ]
  },
  {
   "cell_type": "code",
   "execution_count": 39,
   "metadata": {},
   "outputs": [
    {
     "name": "stdout",
     "output_type": "stream",
     "text": [
      "11.1\n"
     ]
    }
   ],
   "source": [
    "print cjddb(40,150)"
   ]
  },
  {
   "cell_type": "code",
   "execution_count": 36,
   "metadata": {},
   "outputs": [
    {
     "name": "stdout",
     "output_type": "stream",
     "text": [
      "232.53896767\n"
     ]
    }
   ],
   "source": [
    "print cjddb(4384.6844,132.5)"
   ]
  },
  {
   "cell_type": "code",
   "execution_count": 40,
   "metadata": {},
   "outputs": [
    {
     "name": "stdout",
     "output_type": "stream",
     "text": [
      "14.2257030972\n"
     ]
    }
   ],
   "source": [
    "print cjddb(40,132.5)"
   ]
  },
  {
   "cell_type": "code",
   "execution_count": 33,
   "metadata": {},
   "outputs": [
    {
     "name": "stdout",
     "output_type": "stream",
     "text": [
      "119.212864626\n"
     ]
    }
   ],
   "source": [
    "print cjdd(4384.6844,185)"
   ]
  },
  {
   "cell_type": "code",
   "execution_count": 41,
   "metadata": {},
   "outputs": [
    {
     "name": "stdout",
     "output_type": "stream",
     "text": [
      "7.29291453616\n"
     ]
    }
   ],
   "source": [
    "print cjdd(40,185)"
   ]
  },
  {
   "cell_type": "code",
   "execution_count": 35,
   "metadata": {},
   "outputs": [
    {
     "name": "stdout",
     "output_type": "stream",
     "text": [
      "181.336012971\n"
     ]
    }
   ],
   "source": [
    "print cjdd(4384.6844,150)"
   ]
  },
  {
   "cell_type": "code",
   "execution_count": 42,
   "metadata": {},
   "outputs": [
    {
     "name": "stdout",
     "output_type": "stream",
     "text": [
      "11.0933333333\n"
     ]
    }
   ],
   "source": [
    "print cjdd(40,150)"
   ]
  },
  {
   "cell_type": "code",
   "execution_count": 37,
   "metadata": {},
   "outputs": [
    {
     "name": "stdout",
     "output_type": "stream",
     "text": [
      "232.399304626\n"
     ]
    }
   ],
   "source": [
    "print cjdd(4384.6844,132.5)"
   ]
  },
  {
   "cell_type": "code",
   "execution_count": 43,
   "metadata": {},
   "outputs": [
    {
     "name": "stdout",
     "output_type": "stream",
     "text": [
      "14.2171591314\n"
     ]
    }
   ],
   "source": [
    "print cjdd(40,132.5)"
   ]
  },
  {
   "cell_type": "code",
   "execution_count": 30,
   "metadata": {},
   "outputs": [
    {
     "name": "stdout",
     "output_type": "stream",
     "text": [
      "11.1\n"
     ]
    }
   ],
   "source": [
    "print cjddb(40,150)"
   ]
  },
  {
   "cell_type": "code",
   "execution_count": null,
   "metadata": {
    "collapsed": true
   },
   "outputs": [],
   "source": []
  }
 ],
 "metadata": {
  "kernelspec": {
   "display_name": "Python 2",
   "language": "python",
   "name": "python2"
  },
  "language_info": {
   "codemirror_mode": {
    "name": "ipython",
    "version": 2
   },
   "file_extension": ".py",
   "mimetype": "text/x-python",
   "name": "python",
   "nbconvert_exporter": "python",
   "pygments_lexer": "ipython2",
   "version": "2.7.15"
  }
 },
 "nbformat": 4,
 "nbformat_minor": 1
}
