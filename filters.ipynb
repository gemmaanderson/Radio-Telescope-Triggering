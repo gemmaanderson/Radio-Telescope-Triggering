{
 "cells": [
  {
   "cell_type": "code",
   "execution_count": 1,
   "metadata": {},
   "outputs": [],
   "source": [
    "import numpy as np\n",
    "from astropy.table import Table"
   ]
  },
  {
   "cell_type": "code",
   "execution_count": 2,
   "metadata": {},
   "outputs": [
    {
     "name": "stdout",
     "output_type": "stream",
     "text": [
      "[0.24397602 0.63760476 0.19677125 0.20115065 0.26367451 0.40751854\n",
      " 0.79420483 0.78326068 0.11562476 0.80888077]\n",
      "[0.99413519 0.13861199 0.10428626 0.81484943 0.03557926 0.49467233\n",
      " 0.52843789 0.09807281 0.65301067 0.35186482]\n"
     ]
    }
   ],
   "source": [
    "data1 = np.random.rand(10)\n",
    "data2 = np.random.rand(10)\n",
    "data1_results = np.ndarray(10)    # place-holder for the final array after doing stuff to each element\n",
    "\n",
    "print(data1)\n",
    "print(data2)"
   ]
  },
  {
   "cell_type": "code",
   "execution_count": 3,
   "metadata": {},
   "outputs": [
    {
     "name": "stdout",
     "output_type": "stream",
     "text": [
      "[False  True  True False  True False  True  True False  True]\n"
     ]
    }
   ],
   "source": [
    "# Filter array for elements in data1\n",
    "fltr = (data1 > data2)\n",
    "print(fltr)"
   ]
  },
  {
   "cell_type": "code",
   "execution_count": 4,
   "metadata": {},
   "outputs": [
    {
     "name": "stdout",
     "output_type": "stream",
     "text": [
      "[-1.49166815e-154  6.37604761e+000  1.96771253e+000  0.00000000e+000\n",
      "  2.63674514e+000  0.00000000e+000  7.94204828e+000  7.83260677e+000\n",
      "  0.00000000e+000  8.08880775e+000]\n"
     ]
    }
   ],
   "source": [
    "# For elements of data1 which filter is true, multiply by 10\n",
    "data1_results[fltr] = data1[fltr] * 10 \n",
    "# For elements of data1 which filter is NOT true (hence the \"~\" character), multiply by -10\n",
    "##data1_results[~fltr] = data1[~fltr] * -10\n",
    "\n",
    "print(data1_results)"
   ]
  },
  {
   "cell_type": "code",
   "execution_count": 5,
   "metadata": {},
   "outputs": [
    {
     "data": {
      "text/html": [
       "&lt;Table length=10&gt;\n",
       "<table id=\"table4769653840\" class=\"table-striped table-bordered table-condensed\">\n",
       "<thead><tr><th>data1</th><th>data2</th><th>data1_results</th></tr></thead>\n",
       "<thead><tr><th>float64</th><th>float64</th><th>float64</th></tr></thead>\n",
       "<tr><td>0.24397601682823522</td><td>0.9941351944666997</td><td>-1.4916681462400413e-154</td></tr>\n",
       "<tr><td>0.6376047610180242</td><td>0.13861198879640335</td><td>6.376047610180242</td></tr>\n",
       "<tr><td>0.1967712530450837</td><td>0.10428625958669202</td><td>1.967712530450837</td></tr>\n",
       "<tr><td>0.201150650936463</td><td>0.8148494252124918</td><td>0.0</td></tr>\n",
       "<tr><td>0.2636745144444643</td><td>0.03557926406735423</td><td>2.6367451444446433</td></tr>\n",
       "<tr><td>0.407518535797624</td><td>0.49467232887767565</td><td>0.0</td></tr>\n",
       "<tr><td>0.794204827717388</td><td>0.528437890773583</td><td>7.94204827717388</td></tr>\n",
       "<tr><td>0.783260676731693</td><td>0.09807281056073547</td><td>7.83260676731693</td></tr>\n",
       "<tr><td>0.11562475794886551</td><td>0.6530106720388581</td><td>0.0</td></tr>\n",
       "<tr><td>0.8088807747918967</td><td>0.35186481910464773</td><td>8.088807747918967</td></tr>\n",
       "</table>"
      ],
      "text/plain": [
       "<Table length=10>\n",
       "       data1               data2             data1_results      \n",
       "      float64             float64               float64         \n",
       "------------------- ------------------- ------------------------\n",
       "0.24397601682823522  0.9941351944666997 -1.4916681462400413e-154\n",
       " 0.6376047610180242 0.13861198879640335        6.376047610180242\n",
       " 0.1967712530450837 0.10428625958669202        1.967712530450837\n",
       "  0.201150650936463  0.8148494252124918                      0.0\n",
       " 0.2636745144444643 0.03557926406735423       2.6367451444446433\n",
       "  0.407518535797624 0.49467232887767565                      0.0\n",
       "  0.794204827717388   0.528437890773583         7.94204827717388\n",
       "  0.783260676731693 0.09807281056073547         7.83260676731693\n",
       "0.11562475794886551  0.6530106720388581                      0.0\n",
       " 0.8088807747918967 0.35186481910464773        8.088807747918967"
      ]
     },
     "execution_count": 5,
     "metadata": {},
     "output_type": "execute_result"
    }
   ],
   "source": [
    "# Let's print them in a readable way\n",
    "Table(data=[data1,data2,data1_results],names=['data1','data2','data1_results'])"
   ]
  },
  {
   "cell_type": "code",
   "execution_count": null,
   "metadata": {},
   "outputs": [],
   "source": []
  }
 ],
 "metadata": {
  "kernelspec": {
   "display_name": "Python 2",
   "language": "python",
   "name": "python2"
  },
  "language_info": {
   "codemirror_mode": {
    "name": "ipython",
    "version": 2
   },
   "file_extension": ".py",
   "mimetype": "text/x-python",
   "name": "python",
   "nbconvert_exporter": "python",
   "pygments_lexer": "ipython2",
   "version": "2.7.15"
  }
 },
 "nbformat": 4,
 "nbformat_minor": 2
}
