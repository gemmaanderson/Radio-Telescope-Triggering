{
 "cells": [
  {
   "cell_type": "code",
   "execution_count": 1,
   "metadata": {
    "collapsed": true
   },
   "outputs": [],
   "source": [
    "import astropy\n",
    "import math\n",
    "import numpy as np\n",
    "import scipy as sp\n",
    "import lmfit\n",
    "import csv\n",
    "from decimal import Decimal\n",
    "import matplotlib.pyplot as plt\n",
    "import matplotlib.artist as artists\n",
    "from matplotlib.pyplot import savefig\n",
    "from matplotlib.lines import Line2D\n",
    "from matplotlib.ticker import FormatStrFormatter\n",
    "from matplotlib.ticker import ScalarFormatter \n",
    "from matplotlib.backends.backend_pdf import PdfPages\n",
    "import scipy.optimize as optimization\n",
    "#import cosmolopy.distance as cd\n",
    "from astropy.cosmology import WMAP9 as cosmo\n",
    "from astropy.cosmology import FlatLambdaCDM\n",
    "from astropy.cosmology import Planck13, z_at_value\n",
    "import astropy.units as u\n",
    "import collections"
   ]
  },
  {
   "cell_type": "code",
   "execution_count": 2,
   "metadata": {},
   "outputs": [
    {
     "name": "stdout",
     "output_type": "stream",
     "text": [
      "FlatLambdaCDM(H0=68 km / (Mpc s), Om0=0.3, Tcmb0=2.725 K, Neff=3.04, m_nu=[ 0.  0.  0.] eV, Ob0=None)\n"
     ]
    }
   ],
   "source": [
    "cosmo = FlatLambdaCDM(H0=68, Om0=0.3)\n",
    "print cosmo"
   ]
  },
  {
   "cell_type": "code",
   "execution_count": 3,
   "metadata": {},
   "outputs": [],
   "source": [
    "zgw = z_at_value(Planck13.luminosity_distance, 120. * u.Mpc)  "
   ]
  },
  {
   "cell_type": "code",
   "execution_count": 4,
   "metadata": {
    "collapsed": true
   },
   "outputs": [],
   "source": [
    "zfrb = z_at_value(Planck13.luminosity_distance, 460. * u.Mpc) "
   ]
  },
  {
   "cell_type": "code",
   "execution_count": 5,
   "metadata": {
    "collapsed": true
   },
   "outputs": [],
   "source": [
    "zcfrb = z_at_value(Planck13.luminosity_distance, 46. * u.Mpc) "
   ]
  },
  {
   "cell_type": "code",
   "execution_count": 6,
   "metadata": {},
   "outputs": [
    {
     "name": "stdout",
     "output_type": "stream",
     "text": [
      "0.0103170978203\n"
     ]
    }
   ],
   "source": [
    "print zcfrb"
   ]
  },
  {
   "cell_type": "code",
   "execution_count": 7,
   "metadata": {
    "collapsed": true
   },
   "outputs": [],
   "source": [
    "zgwbns = z_at_value(Planck13.luminosity_distance, 40. * u.Mpc) "
   ]
  },
  {
   "cell_type": "code",
   "execution_count": 13,
   "metadata": {},
   "outputs": [
    {
     "data": {
      "text/latex": [
       "$4384.6844 \\; \\mathrm{Mpc}$"
      ],
      "text/plain": [
       "<Quantity 4384.6844038314675 Mpc>"
      ]
     },
     "execution_count": 13,
     "metadata": {},
     "output_type": "execute_result"
    }
   ],
   "source": [
    "cosmo.luminosity_distance(0.7) "
   ]
  },
  {
   "cell_type": "code",
   "execution_count": 8,
   "metadata": {},
   "outputs": [
    {
     "name": "stdout",
     "output_type": "stream",
     "text": [
      "0.00898047698996\n"
     ]
    }
   ],
   "source": [
    "print zgwbns"
   ]
  },
  {
   "cell_type": "code",
   "execution_count": 9,
   "metadata": {
    "collapsed": true
   },
   "outputs": [],
   "source": [
    "# Calculate dispersion measure from redshift\n",
    "def dm(z):\n",
    "    return 1200. * z"
   ]
  },
  {
   "cell_type": "code",
   "execution_count": 10,
   "metadata": {
    "collapsed": true
   },
   "outputs": [],
   "source": [
    "# Calculate dispersion delay using DM (d in pc cm^-3) and frequency (GHz)\n",
    "def dd(d, f):\n",
    "    return d / (241. * f**2)"
   ]
  },
  {
   "cell_type": "code",
   "execution_count": 17,
   "metadata": {
    "collapsed": true
   },
   "outputs": [],
   "source": [
    "# Clancy's dispersion measure calculation\n",
    "# Assumes galaxy DM of ~60 pc cm^-3 (Shannon et al, 2018), freq for 200 MHz, distance in Mpc\n",
    "def cjdd(d,f):\n",
    "    return 0.104 * (f / 200.)**(-2) * (60. + (21. * (d / 100)))"
   ]
  },
  {
   "cell_type": "code",
   "execution_count": 18,
   "metadata": {
    "collapsed": true
   },
   "outputs": [],
   "source": [
    "# Include host galaxy contribution\n",
    "def cjddh(d,f):\n",
    "    return 0.104 * (f / 200.)**(-2) * (120. + (21. * (d / 100)))"
   ]
  },
  {
   "cell_type": "code",
   "execution_count": 19,
   "metadata": {
    "collapsed": true
   },
   "outputs": [],
   "source": [
    "# Clancy's dispersion measure calculation\n",
    "# Assumes galaxy DM of ~60 pc cm^-3 (Shannon et al, 2018), freq for 150 MHz, distance in Mpc\n",
    "def cjddb(d,f):\n",
    "    return 0.185 * (f / 150.)**(-2) * (60. + (21. * (d / 100)))"
   ]
  },
  {
   "cell_type": "code",
   "execution_count": 20,
   "metadata": {
    "collapsed": true
   },
   "outputs": [],
   "source": [
    "dmgw = dm(zgw)\n",
    "ddgw = dd(dmgw,0.15)"
   ]
  },
  {
   "cell_type": "code",
   "execution_count": 21,
   "metadata": {},
   "outputs": [
    {
     "name": "stdout",
     "output_type": "stream",
     "text": [
      "31.9064207794\n",
      "5.88407944295\n"
     ]
    }
   ],
   "source": [
    "print dmgw\n",
    "print ddgw"
   ]
  },
  {
   "cell_type": "code",
   "execution_count": 22,
   "metadata": {
    "collapsed": true
   },
   "outputs": [],
   "source": [
    "dmgwbns = dm(zgwbns)\n",
    "ddgwbns = dd(dmgwbns,0.15)"
   ]
  },
  {
   "cell_type": "code",
   "execution_count": 23,
   "metadata": {},
   "outputs": [
    {
     "name": "stdout",
     "output_type": "stream",
     "text": [
      "10.776572388\n",
      "1.98738079999\n"
     ]
    }
   ],
   "source": [
    "print dmgwbns\n",
    "print ddgwbns"
   ]
  },
  {
   "cell_type": "code",
   "execution_count": 24,
   "metadata": {},
   "outputs": [
    {
     "name": "stdout",
     "output_type": "stream",
     "text": [
      "14.976\n",
      "26.0693333333\n",
      "11.0933333333\n",
      "22.1866666667\n"
     ]
    }
   ],
   "source": [
    "print cjdd(120,150)\n",
    "print cjddh(120,150)\n",
    "\n",
    "print cjdd(40,150)\n",
    "print cjddh(40,150)"
   ]
  },
  {
   "cell_type": "code",
   "execution_count": 31,
   "metadata": {},
   "outputs": [
    {
     "name": "stdout",
     "output_type": "stream",
     "text": [
      "119.284506973\n"
     ]
    }
   ],
   "source": [
    "print cjddb(4384.6844,185)"
   ]
  },
  {
   "cell_type": "code",
   "execution_count": 38,
   "metadata": {},
   "outputs": [
    {
     "name": "stdout",
     "output_type": "stream",
     "text": [
      "7.2972972973\n"
     ]
    }
   ],
   "source": [
    "print cjddb(40,185)"
   ]
  },
  {
   "cell_type": "code",
   "execution_count": 34,
   "metadata": {},
   "outputs": [
    {
     "name": "stdout",
     "output_type": "stream",
     "text": [
      "181.44498894\n"
     ]
    }
   ],
   "source": [
    "print cjddb(4384.6844,150)"
   ]
  },
  {
   "cell_type": "code",
   "execution_count": 39,
   "metadata": {},
   "outputs": [
    {
     "name": "stdout",
     "output_type": "stream",
     "text": [
      "11.1\n"
     ]
    }
   ],
   "source": [
    "print cjddb(40,150)"
   ]
  },
  {
   "cell_type": "code",
   "execution_count": 36,
   "metadata": {},
   "outputs": [
    {
     "name": "stdout",
     "output_type": "stream",
     "text": [
      "232.53896767\n"
     ]
    }
   ],
   "source": [
    "print cjddb(4384.6844,132.5)"
   ]
  },
  {
   "cell_type": "code",
   "execution_count": 40,
   "metadata": {},
   "outputs": [
    {
     "name": "stdout",
     "output_type": "stream",
     "text": [
      "14.2257030972\n"
     ]
    }
   ],
   "source": [
    "print cjddb(40,132.5)"
   ]
  },
  {
   "cell_type": "code",
   "execution_count": 33,
   "metadata": {},
   "outputs": [
    {
     "name": "stdout",
     "output_type": "stream",
     "text": [
      "119.212864626\n"
     ]
    }
   ],
   "source": [
    "print cjdd(4384.6844,185)"
   ]
  },
  {
   "cell_type": "code",
   "execution_count": 41,
   "metadata": {},
   "outputs": [
    {
     "name": "stdout",
     "output_type": "stream",
     "text": [
      "7.29291453616\n"
     ]
    }
   ],
   "source": [
    "print cjdd(40,185)"
   ]
  },
  {
   "cell_type": "code",
   "execution_count": 35,
   "metadata": {},
   "outputs": [
    {
     "name": "stdout",
     "output_type": "stream",
     "text": [
      "181.336012971\n"
     ]
    }
   ],
   "source": [
    "print cjdd(4384.6844,150)"
   ]
  },
  {
   "cell_type": "code",
   "execution_count": 42,
   "metadata": {},
   "outputs": [
    {
     "name": "stdout",
     "output_type": "stream",
     "text": [
      "11.0933333333\n"
     ]
    }
   ],
   "source": [
    "print cjdd(40,150)"
   ]
  },
  {
   "cell_type": "code",
   "execution_count": 37,
   "metadata": {},
   "outputs": [
    {
     "name": "stdout",
     "output_type": "stream",
     "text": [
      "232.399304626\n"
     ]
    }
   ],
   "source": [
    "print cjdd(4384.6844,132.5)"
   ]
  },
  {
   "cell_type": "code",
   "execution_count": 43,
   "metadata": {},
   "outputs": [
    {
     "name": "stdout",
     "output_type": "stream",
     "text": [
      "14.2171591314\n"
     ]
    }
   ],
   "source": [
    "print cjdd(40,132.5)"
   ]
  },
  {
   "cell_type": "code",
   "execution_count": 30,
   "metadata": {},
   "outputs": [
    {
     "name": "stdout",
     "output_type": "stream",
     "text": [
      "11.1\n"
     ]
    }
   ],
   "source": [
    "print cjddb(40,150)"
   ]
  },
  {
   "cell_type": "code",
   "execution_count": null,
   "metadata": {
    "collapsed": true
   },
   "outputs": [],
   "source": []
  }
 ],
 "metadata": {
  "kernelspec": {
   "display_name": "Python 2",
   "language": "python",
   "name": "python2"
  },
  "language_info": {
   "codemirror_mode": {
    "name": "ipython",
    "version": 2
   },
   "file_extension": ".py",
   "mimetype": "text/x-python",
   "name": "python",
   "nbconvert_exporter": "python",
   "pygments_lexer": "ipython2",
   "version": "2.7.15"
  }
 },
 "nbformat": 4,
 "nbformat_minor": 1
}
